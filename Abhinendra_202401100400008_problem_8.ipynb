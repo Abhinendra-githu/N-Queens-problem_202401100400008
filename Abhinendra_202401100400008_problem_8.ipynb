{
  "nbformat": 4,
  "nbformat_minor": 0,
  "metadata": {
    "colab": {
      "provenance": []
    },
    "kernelspec": {
      "name": "python3",
      "display_name": "Python 3"
    },
    "language_info": {
      "name": "python"
    }
  },
  "cells": [
    {
      "cell_type": "code",
      "source": [
        "N = 5  # Change this value for different board sizes"
      ],
      "metadata": {
        "id": "PsVbsbYCRUXU"
      },
      "execution_count": 15,
      "outputs": []
    },
    {
      "cell_type": "code",
      "source": [
        "def print_solution(board):\n",
        "    \"\"\"Function to print the chessboard configuration\"\"\"\n",
        "    for row in board:\n",
        "        print(\" \".join(\"Q\" if cell else \"-\" for cell in row))\n",
        "    print(\"\\n\")"
      ],
      "metadata": {
        "id": "dhm3sP-LRZ6l"
      },
      "execution_count": 16,
      "outputs": []
    },
    {
      "cell_type": "code",
      "source": [
        "def is_safe(board, row, col):\n",
        "    \"\"\"Check if it's safe to place a queen at board[row][col]\"\"\"\n",
        "    # Check the same column\n",
        "    for i in range(row):\n",
        "        if board[i][col]:\n",
        "            return False\n",
        "\n",
        "      # Check upper-left diagonal\n",
        "    i, j = row, col\n",
        "    while i >= 0 and j >= 0:\n",
        "        if board[i][j]:\n",
        "            return False\n",
        "        i -= 1\n",
        "        j -= 1\n",
        "       # Check upper-right diagonal\n",
        "    i, j = row, col\n",
        "    while i >= 0 and j < N:\n",
        "        if board[i][j]:\n",
        "            return False\n",
        "        i -= 1\n",
        "        j += 1\n",
        "\n",
        "    return True"
      ],
      "metadata": {
        "id": "FLmpQPcdRd4z"
      },
      "execution_count": 17,
      "outputs": []
    },
    {
      "cell_type": "code",
      "source": [
        "def solve_n_queens(board, row):\n",
        "    \"\"\"Recursive function to solve N-Queens problem\"\"\"\n",
        "    if row >= N:\n",
        "        print_solution(board)\n",
        "        return True  # Continue searching for other solutions\n",
        "\n",
        "    res = False\n",
        "    for col in range(N):\n",
        "        if is_safe(board, row, col):\n",
        "            board[row][col] = 1  # Place queen\n",
        "\n",
        "            res = solve_n_queens(board, row + 1) or res\n",
        "\n",
        "            board[row][col] = 0  # Backtrack\n",
        "\n",
        "    return res"
      ],
      "metadata": {
        "id": "tael0wwFRshM"
      },
      "execution_count": 18,
      "outputs": []
    },
    {
      "cell_type": "code",
      "execution_count": 19,
      "metadata": {
        "colab": {
          "base_uri": "https://localhost:8080/"
        },
        "id": "p9JqcNpSMoVB",
        "outputId": "1d111ac3-b268-4f92-aa74-2d99c2d9654b"
      },
      "outputs": [
        {
          "output_type": "stream",
          "name": "stdout",
          "text": [
            "Q - - - -\n",
            "- - Q - -\n",
            "- - - - Q\n",
            "- Q - - -\n",
            "- - - Q -\n",
            "\n",
            "\n",
            "Q - - - -\n",
            "- - - Q -\n",
            "- Q - - -\n",
            "- - - - Q\n",
            "- - Q - -\n",
            "\n",
            "\n",
            "- Q - - -\n",
            "- - - Q -\n",
            "Q - - - -\n",
            "- - Q - -\n",
            "- - - - Q\n",
            "\n",
            "\n",
            "- Q - - -\n",
            "- - - - Q\n",
            "- - Q - -\n",
            "Q - - - -\n",
            "- - - Q -\n",
            "\n",
            "\n",
            "- - Q - -\n",
            "Q - - - -\n",
            "- - - Q -\n",
            "- Q - - -\n",
            "- - - - Q\n",
            "\n",
            "\n",
            "- - Q - -\n",
            "- - - - Q\n",
            "- Q - - -\n",
            "- - - Q -\n",
            "Q - - - -\n",
            "\n",
            "\n",
            "- - - Q -\n",
            "Q - - - -\n",
            "- - Q - -\n",
            "- - - - Q\n",
            "- Q - - -\n",
            "\n",
            "\n",
            "- - - Q -\n",
            "- Q - - -\n",
            "- - - - Q\n",
            "- - Q - -\n",
            "Q - - - -\n",
            "\n",
            "\n",
            "- - - - Q\n",
            "- Q - - -\n",
            "- - - Q -\n",
            "Q - - - -\n",
            "- - Q - -\n",
            "\n",
            "\n",
            "- - - - Q\n",
            "- - Q - -\n",
            "Q - - - -\n",
            "- - - Q -\n",
            "- Q - - -\n",
            "\n",
            "\n"
          ]
        }
      ],
      "source": [
        "\n",
        "\n",
        "def solve():\n",
        "    \"\"\"Initialize the board and start solving\"\"\"\n",
        "    board = [[0] * N for _ in range(N)]\n",
        "\n",
        "    if not solve_n_queens(board, 0):\n",
        "        print(f\"No solution exists for {N}-Queens\")\n",
        "\n",
        "if __name__ == \"__main__\":\n",
        "    solve()\n"
      ]
    }
  ]
}